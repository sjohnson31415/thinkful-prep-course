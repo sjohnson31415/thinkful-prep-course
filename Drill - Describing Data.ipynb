{
 "cells": [
  {
   "cell_type": "code",
   "execution_count": 22,
   "metadata": {},
   "outputs": [
    {
     "name": "stdout",
     "output_type": "stream",
     "text": [
      "6.40816326531\n",
      "2.53143502095\n",
      "0.421905836825\n"
     ]
    }
   ],
   "source": [
    "import numpy as np\n",
    "ages = [14,12,11,10,8,6,8]\n",
    "print(np.var(ages))\n",
    "print(np.std(ages))\n",
    "print(np.std(ages)/((len(ages)-1)))"
   ]
  },
  {
   "cell_type": "markdown",
   "metadata": {},
   "source": [
    "1) Variance  = 6.41\n",
    "Standard Deviation = 2.53\n",
    "Standard Error = 0.42"
   ]
  },
  {
   "cell_type": "code",
   "execution_count": 23,
   "metadata": {
    "scrolled": true
   },
   "outputs": [
    {
     "name": "stdout",
     "output_type": "stream",
     "text": [
      "9.85714285714\n",
      "10.0\n"
     ]
    }
   ],
   "source": [
    "print(np.mean(ages))\n",
    "print(np.median(ages))"
   ]
  },
  {
   "cell_type": "markdown",
   "metadata": {},
   "source": [
    "2) Since the mean and median are close, either central tendency would work, and because they're close, Std dev is the best variance to descibe the data."
   ]
  },
  {
   "cell_type": "code",
   "execution_count": 24,
   "metadata": {},
   "outputs": [
    {
     "name": "stdout",
     "output_type": "stream",
     "text": [
      "5.42857142857\n",
      "2.32992949004\n",
      "0.388321581674\n",
      "10.0\n",
      "10.0\n"
     ]
    }
   ],
   "source": [
    "new_ages = [14,12,11,10,8,7,8]\n",
    "print(np.var(new_ages))\n",
    "print(np.std(new_ages))\n",
    "print(np.std(new_ages)/((len(new_ages)-1)))\n",
    "print(np.mean(new_ages))\n",
    "print(np.median(new_ages))"
   ]
  },
  {
   "cell_type": "markdown",
   "metadata": {},
   "source": [
    "3) The Variance, Standard Deviation, and Standard Error decreased because the data points are closer together. Median also increased, but mode is unaffected because the change in Cindy's age is not enough."
   ]
  },
  {
   "cell_type": "code",
   "execution_count": 25,
   "metadata": {
    "scrolled": true
   },
   "outputs": [
    {
     "name": "stdout",
     "output_type": "stream",
     "text": [
      "15.4285714286\n",
      "3.92792202425\n",
      "0.654653670708\n",
      "9.0\n",
      "10.0\n"
     ]
    }
   ],
   "source": [
    "new_new_ages = [14,12,11,10,8,7,1]\n",
    "print(np.var(new_new_ages))\n",
    "print(np.std(new_new_ages))\n",
    "print(np.std(new_new_ages)/((len(new_new_ages)-1)))\n",
    "print(np.mean(new_new_ages))\n",
    "print(np.median(new_new_ages))"
   ]
  },
  {
   "cell_type": "markdown",
   "metadata": {},
   "source": [
    "4) The Variance, Std Dev, and Std Err all increase because the new data point is relatively small. Since the mean is now too small to be repesentative due to the outlier, the median is a slightly better choice for measure of central tendency. The Mode also dissapears, but it wasn't very useful."
   ]
  },
  {
   "cell_type": "markdown",
   "metadata": {},
   "source": [
    "5) Our estimation first must deal with the SciPhi Phanatics. We could either eliminate the data point or weight it accordingly. Also we should be careful of bias from the entertainment magazines. I would estimate somewhere between 15-20% of adult Americans were Brady Bunch fans on the 50th anniversary. "
   ]
  }
 ],
 "metadata": {
  "kernelspec": {
   "display_name": "Python 3",
   "language": "python",
   "name": "python3"
  },
  "language_info": {
   "codemirror_mode": {
    "name": "ipython",
    "version": 3
   },
   "file_extension": ".py",
   "mimetype": "text/x-python",
   "name": "python",
   "nbconvert_exporter": "python",
   "pygments_lexer": "ipython3",
   "version": "3.6.2"
  }
 },
 "nbformat": 4,
 "nbformat_minor": 2
}
